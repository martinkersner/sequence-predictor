{
 "cells": [
  {
   "cell_type": "markdown",
   "metadata": {},
   "source": [
    "# Prediction of Hailstone sequences using Autoencoder"
   ]
  },
  {
   "cell_type": "code",
   "execution_count": 1,
   "metadata": {
    "collapsed": true
   },
   "outputs": [],
   "source": [
    "import sys\n",
    "import numpy as np\n",
    "import tensorflow as tf"
   ]
  },
  {
   "cell_type": "code",
   "execution_count": 2,
   "metadata": {
    "collapsed": true
   },
   "outputs": [],
   "source": [
    "sequences = np.load(\"hailstone_sequences.npy\")"
   ]
  },
  {
   "cell_type": "code",
   "execution_count": 3,
   "metadata": {},
   "outputs": [],
   "source": [
    "def split_xy(Xy):\n",
    "    X = Xy[:, 0:-1]\n",
    "    y = Xy[:, -1]\n",
    "    \n",
    "    return X, y\n",
    "\n",
    "def my_shuffle(X, y):\n",
    "    np.random.seed(42)\n",
    "    Xy = np.concatenate((X, y[:, np.newaxis]), axis=1)\n",
    "    np.random.shuffle(Xy)\n",
    "    return split_xy(Xy)\n",
    "\n",
    "def next_batch(X, y, it, batch_size, max_size):\n",
    "    if it + batch_size > max_size:\n",
    "        return X[it, :], y[it, :]\n",
    "    else:\n",
    "        return X[it:it+batch_size, ], y[it:it+batch_size, ]"
   ]
  },
  {
   "cell_type": "code",
   "execution_count": 4,
   "metadata": {},
   "outputs": [],
   "source": [
    "X, y = split_xy(sequences)"
   ]
  },
  {
   "cell_type": "code",
   "execution_count": 5,
   "metadata": {},
   "outputs": [
    {
     "name": "stdout",
     "output_type": "stream",
     "text": [
      "(248, 5)\n",
      "(248,)\n"
     ]
    }
   ],
   "source": [
    "print(X.shape)\n",
    "print(y.shape)"
   ]
  },
  {
   "cell_type": "code",
   "execution_count": 6,
   "metadata": {},
   "outputs": [],
   "source": [
    "from sklearn.model_selection import train_test_split\n",
    "X_train, X_test, y_train, y_test = train_test_split(X, y, test_size=0.33, random_state=42)"
   ]
  },
  {
   "cell_type": "markdown",
   "metadata": {},
   "source": [
    "## Train"
   ]
  },
  {
   "cell_type": "code",
   "execution_count": 7,
   "metadata": {},
   "outputs": [],
   "source": [
    "# 5 > 4 > 3 (coding) < 4 < 6\n",
    "n_inputs = sequences.shape[1]-1\n",
    "n_hidden1 = n_inputs - 1\n",
    "n_hidden2 = n_inputs - 2\n",
    "n_hidden3 = n_hidden1\n",
    "n_outputs = n_inputs + 1\n",
    "\n",
    "learning_rate = 0.01\n",
    "l2_reg = 0.0001\n",
    "\n",
    "activation = tf.nn.elu\n",
    "regularizer = tf.contrib.layers.l2_regularizer(l2_reg)\n",
    "initializer = tf.contrib.layers.variance_scaling_initializer()\n",
    "\n",
    "X = tf.placeholder(tf.float32, shape=[None, n_inputs])\n",
    "X_full = tf.placeholder(tf.float32, shape=[None, n_inputs+1])\n",
    "\n",
    "weights1_init = initializer([n_inputs, n_hidden1])\n",
    "weights2_init = initializer([n_hidden1, n_hidden2])\n",
    "weights3_init = initializer([n_hidden2, n_hidden3])\n",
    "weights4_init = initializer([n_hidden3, n_outputs])\n",
    "\n",
    "weights1 = tf.Variable(weights1_init, dtype=tf.float32, name=\"weights1\")\n",
    "weights2 = tf.Variable(weights2_init, dtype=tf.float32, name=\"weights2\")\n",
    "weights3 = tf.Variable(weights3_init, dtype=tf.float32, name=\"weights3\")\n",
    "weights4 = tf.Variable(weights4_init, dtype=tf.float32, name=\"weights4\")\n",
    "\n",
    "biases1 = tf.Variable(tf.zeros(n_hidden1), name=\"biases1\")\n",
    "biases2 = tf.Variable(tf.zeros(n_hidden2), name=\"biases2\")\n",
    "biases3 = tf.Variable(tf.zeros(n_hidden3), name=\"biases3\")\n",
    "biases4 = tf.Variable(tf.zeros(n_outputs), name=\"biases4\")\n",
    "\n",
    "hidden1 = activation(tf.matmul(X, weights1) + biases1)\n",
    "hidden2 = activation(tf.matmul(hidden1, weights2) + biases2)\n",
    "hidden3 = activation(tf.matmul(hidden2, weights3) + biases3)\n",
    "outputs = tf.matmul(hidden3, weights4) + biases4\n",
    "\n",
    "reconstruction_loss = tf.reduce_mean(tf.square(outputs - X_full))"
   ]
  },
  {
   "cell_type": "code",
   "execution_count": 8,
   "metadata": {},
   "outputs": [],
   "source": [
    "optimizer = tf.train.AdamOptimizer(learning_rate)\n",
    "\n",
    "with tf.name_scope(\"phase1\"):\n",
    "    phase1_outputs = tf.matmul(hidden1, weights4) + biases4  # bypass hidden2 and hidden3\n",
    "    phase1_reconstruction_loss = tf.reduce_mean(tf.square(phase1_outputs - X_full))\n",
    "    phase1_reg_loss = regularizer(weights1) + regularizer(weights4)\n",
    "    phase1_loss = phase1_reconstruction_loss + phase1_reg_loss\n",
    "    phase1_training_op = optimizer.minimize(phase1_loss)\n",
    "\n",
    "with tf.name_scope(\"phase2\"):\n",
    "    phase2_reconstruction_loss = tf.reduce_mean(tf.square(hidden3 - hidden1))\n",
    "    phase2_reg_loss = regularizer(weights2) + regularizer(weights3)\n",
    "    phase2_loss = phase2_reconstruction_loss + phase2_reg_loss\n",
    "    train_vars = [weights2, biases2, weights3, biases3]\n",
    "    phase2_training_op = optimizer.minimize(phase2_loss, var_list=train_vars) # freeze hidden1"
   ]
  },
  {
   "cell_type": "code",
   "execution_count": 9,
   "metadata": {
    "collapsed": true
   },
   "outputs": [],
   "source": [
    "init = tf.global_variables_initializer()\n",
    "saver = tf.train.Saver()"
   ]
  },
  {
   "cell_type": "code",
   "execution_count": 10,
   "metadata": {
    "scrolled": false
   },
   "outputs": [
    {
     "name": "stdout",
     "output_type": "stream",
     "text": [
      "Training phase #1\n",
      "0 Train MSE: 293509.0\n",
      "1 Train MSE: 116483.0\n",
      "2 Train MSE: 36325.9\n",
      "3 Train MSE: 11693.4\n",
      "Training phase #2\n",
      "0 Train MSE: 211088.0\n",
      "1 Train MSE: 73209.1\n",
      "2 Train MSE: 42224.0\n",
      "3 Train MSE: 42096.4\n",
      "4 Train MSE: 39507.2\n",
      "5 Train MSE: 36960.2\n",
      "6 Train MSE: 36045.0\n",
      "7 Train MSE: 3707.38\n",
      "8 Train MSE: 1670.63\n",
      "9 Train MSE: 981.541\n",
      "Test MSE: 135318.0\n"
     ]
    }
   ],
   "source": [
    "training_ops = [phase1_training_op, phase2_training_op]\n",
    "reconstruction_losses = [phase1_reconstruction_loss, phase2_reconstruction_loss]\n",
    "n_epochs = [4, 10]\n",
    "batch_sizes = [10, 10]\n",
    "\n",
    "with tf.Session() as sess:\n",
    "    init.run()\n",
    "    for phase in range(2):\n",
    "        print(\"Training phase #{}\".format(phase + 1))\n",
    "        for epoch in range(n_epochs[phase]):\n",
    "            n_batches = X_train.shape[0] // batch_sizes[phase]\n",
    "            \n",
    "            X_train_shuffle, y_train_shuffle = my_shuffle(X_train, y_train)\n",
    "            for iteration in range(n_batches):\n",
    "                print(\"\\r{}%\".format(100 * iteration // n_batches), end=\"\")\n",
    "                sys.stdout.flush()\n",
    "                \n",
    "#                 X_batch, y_batch = mnist.train.next_batch(batch_sizes[phase])\n",
    "                X_batch, y_batch = next_batch(X_train_shuffle, y_train_shuffle, \\\n",
    "                                              iteration, batch_sizes[phase], X_train.shape[0])\n",
    "                \n",
    "                \n",
    "#                 X_full_tmp = X_batch\n",
    "                X_full_tmp = np.concatenate((X_batch, y_batch[:, np.newaxis]), axis=1)\n",
    "                sess.run(training_ops[phase], feed_dict={X: X_batch, X_full: X_full_tmp})\n",
    "                \n",
    "            loss_train = reconstruction_losses[phase].eval(feed_dict={X: X_batch, X_full: X_full_tmp})\n",
    "            print(\"\\r{}\".format(epoch), \"Train MSE:\", loss_train)\n",
    "            saver.save(sess, \"./hailstone_prediction.ckpt\")\n",
    "    loss_test = reconstruction_loss.eval(feed_dict={X: X_test, X_full: np.concatenate((X_test, y_test[:, np.newaxis]), axis=1)})\n",
    "    print(\"Test MSE:\", loss_test)"
   ]
  }
 ],
 "metadata": {
  "kernelspec": {
   "display_name": "Python 3",
   "language": "python",
   "name": "python3"
  },
  "language_info": {
   "codemirror_mode": {
    "name": "ipython",
    "version": 3
   },
   "file_extension": ".py",
   "mimetype": "text/x-python",
   "name": "python",
   "nbconvert_exporter": "python",
   "pygments_lexer": "ipython3",
   "version": "3.5.2"
  }
 },
 "nbformat": 4,
 "nbformat_minor": 2
}
